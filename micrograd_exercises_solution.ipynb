{
 "cells": [
  {
   "cell_type": "markdown",
   "metadata": {
    "id": "JnGHatCI51JP"
   },
   "source": [
    "# micrograd exercises\n",
    "\n",
    "1. watch the [micrograd video](https://www.youtube.com/watch?v=VMj-3S1tku0) on YouTube\n",
    "2. come back and complete these exercises to level up :)"
   ]
  },
  {
   "cell_type": "markdown",
   "metadata": {
    "id": "OFt6NKOz6iBZ"
   },
   "source": [
    "## section 1: derivatives"
   ]
  },
  {
   "cell_type": "code",
   "execution_count": 1,
   "metadata": {
    "colab": {
     "base_uri": "https://localhost:8080/"
    },
    "id": "3Jx9fCXl5xHd",
    "outputId": "20ce0d7c-fca2-49a9-8b63-6fdec7d02f8e"
   },
   "outputs": [
    {
     "name": "stdout",
     "output_type": "stream",
     "text": [
      "6.336362190988558\n"
     ]
    }
   ],
   "source": [
    "# here is a mathematical expression that takes 3 inputs and produces one output\n",
    "from math import sin, cos\n",
    "\n",
    "def f(a, b, c):\n",
    "  return -a**3 + sin(3*b) - 1.0/c + b**2.5 - a**0.5\n",
    "\n",
    "print(f(2, 3, 4))"
   ]
  },
  {
   "cell_type": "code",
   "execution_count": 2,
   "metadata": {},
   "outputs": [],
   "source": [
    "import math"
   ]
  },
  {
   "cell_type": "code",
   "execution_count": 3,
   "metadata": {
    "colab": {
     "base_uri": "https://localhost:8080/"
    },
    "id": "qXaH59eL9zxf",
    "outputId": "f1e26820-437d-4c00-dfe1-05b7abb0996a"
   },
   "outputs": [
    {
     "name": "stdout",
     "output_type": "stream",
     "text": [
      "OK for dim 0: expected -12.353553390593273, yours returns -12.353553390593273\n",
      "OK for dim 1: expected 10.25699027111255, yours returns 10.25699027111255\n",
      "OK for dim 2: expected 0.0625, yours returns 0.0625\n"
     ]
    }
   ],
   "source": [
    "# write the function df that returns the analytical gradient of f\n",
    "# i.e. use your skills from calculus to take the derivative, then implement the formula\n",
    "# if you do not calculus then feel free to ask wolframalpha, e.g.:\n",
    "# https://www.wolframalpha.com/input?i=d%2Fda%28sin%283*a%29%29%29\n",
    "\n",
    "def gradf(a, b, c):\n",
    "  gradf_a = - 3 * a**2 - 0.5 * a ** -(0.5)\n",
    "  gradf_b = 3* cos(3*b) + 2.5 * b ** 1.5\n",
    "  gradf_c = 1/c**2\n",
    "  return [gradf_a, gradf_b, gradf_c] # todo, return [df/da, df/db, df/dc]\n",
    "\n",
    "# expected answer is the list of\n",
    "ans = [-12.353553390593273, 10.25699027111255, 0.0625]\n",
    "yours = gradf(2, 3, 4)\n",
    "for dim in range(3):\n",
    "  ok = 'OK' if abs(yours[dim] - ans[dim]) < 1e-5 else 'WRONG!'\n",
    "  print(f\"{ok} for dim {dim}: expected {ans[dim]}, yours returns {yours[dim]}\")\n"
   ]
  },
  {
   "cell_type": "code",
   "execution_count": 4,
   "metadata": {
    "colab": {
     "base_uri": "https://localhost:8080/"
    },
    "id": "_27n-KTA9Qla",
    "outputId": "fa4712a7-f034-4761-b756-ee2724f0070a"
   },
   "outputs": [
    {
     "name": "stdout",
     "output_type": "stream",
     "text": [
      "OK for dim 0: expected -12.353553390593273, yours returns -12.353559348809995\n",
      "OK for dim 1: expected 10.25699027111255, yours returns 10.256991666679482\n",
      "OK for dim 2: expected 0.0625, yours returns 0.062499984743169534\n"
     ]
    }
   ],
   "source": [
    "# now estimate the gradient numerically without any calculus, using\n",
    "# the approximation we used in the video.\n",
    "# you should not call the function df from the last cell\n",
    "\n",
    "# -----------\n",
    "numerical_grad = [0, 0, 0] # TODO\n",
    "h = 0.000001\n",
    "numerical_grad[0] = (f((2+h), 3, 4) - f(2,3, 4))/h\n",
    "numerical_grad[1] = (f(2, 3+h, 4) - f(2,3, 4))/h\n",
    "numerical_grad[2] = (f(2, 3, 4+h) - f(2,3, 4))/h\n",
    "# -----------\n",
    "\n",
    "for dim in range(3):\n",
    "  ok = 'OK' if abs(numerical_grad[dim] - ans[dim]) < 1e-5 else 'WRONG!'\n",
    "  print(f\"{ok} for dim {dim}: expected {ans[dim]}, yours returns {numerical_grad[dim]}\")\n"
   ]
  },
  {
   "cell_type": "code",
   "execution_count": 5,
   "metadata": {
    "colab": {
     "base_uri": "https://localhost:8080/"
    },
    "id": "BUqsGb5o_h2P",
    "outputId": "5de0d526-247b-4859-a842-60a4b429d247"
   },
   "outputs": [
    {
     "name": "stdout",
     "output_type": "stream",
     "text": [
      "OK for dim 0: expected -12.353553390593273, yours returns -12.353553391353245\n",
      "OK for dim 1: expected 10.25699027111255, yours returns 10.25699027401572\n",
      "OK for dim 2: expected 0.0625, yours returns 0.06250000028629188\n"
     ]
    }
   ],
   "source": [
    "# there is an alternative formula that provides a much better numerical\n",
    "# approximation to the derivative of a function.\n",
    "# learn about it here: https://en.wikipedia.org/wiki/Symmetric_derivative\n",
    "# implement it. confirm that for the same step size h this version gives a\n",
    "# better approximation.\n",
    "\n",
    "# -----------\n",
    "numerical_grad2 = [0, 0, 0] # TODO\n",
    "h = 0.000001\n",
    "numerical_grad2[0] = (f((2+h), 3, 4) - f((2-h),3, 4))/(2*h)\n",
    "numerical_grad2[1] = (f(2, 3+h, 4) - f(2,3-h, 4))/(2*h)\n",
    "numerical_grad2[2] = (f(2, 3, 4+h) - f(2,3, 4-h))/(2*h)\n",
    "# -----------\n",
    "\n",
    "for dim in range(3):\n",
    "  ok = 'OK' if abs(numerical_grad2[dim] - ans[dim]) < 1e-5 else 'WRONG!'\n",
    "  print(f\"{ok} for dim {dim}: expected {ans[dim]}, yours returns {numerical_grad2[dim]}\")\n"
   ]
  },
  {
   "cell_type": "markdown",
   "metadata": {
    "id": "tklF9s_4AtlI"
   },
   "source": [
    "## section 2: support for softmax"
   ]
  },
  {
   "cell_type": "code",
   "execution_count": 6,
   "metadata": {
    "id": "nAPe_RVrCTeO"
   },
   "outputs": [],
   "source": [
    "# Value class starter code, with many functions taken out\n",
    "from math import exp, log\n",
    "\n",
    "class Value:\n",
    "\n",
    "  def __init__(self, data, _children=(), _op='', label=''):\n",
    "    self.data = data\n",
    "    self.grad = 0.0\n",
    "    self._backward = lambda: None\n",
    "    self._prev = set(_children)\n",
    "    self._op = _op\n",
    "    self.label = label\n",
    "\n",
    "  def __repr__(self):\n",
    "    return f\"Value(data={self.data})\"\n",
    "\n",
    "  def __add__(self, other): # exactly as in the video\n",
    "    other = other if isinstance(other, Value) else Value(other)\n",
    "    out = Value(self.data + other.data, (self, other), '+')\n",
    "\n",
    "    def _backward():\n",
    "      self.grad += 1.0 * out.grad\n",
    "      other.grad += 1.0 * out.grad\n",
    "    out._backward = _backward\n",
    "\n",
    "    return out\n",
    "      \n",
    "  def __radd__(self, other):\n",
    "      return self + other\n",
    "\n",
    "  def __mul__(self, other):\n",
    "      other = other if isinstance(other, Value) else Value(other)\n",
    "      out = Value(self.data * other.data, (self, other), '*')\n",
    "      def _backward():\n",
    "          self.grad += other.data * out.grad\n",
    "          other.grad += self.data * out.grad\n",
    "\n",
    "      out._backward = _backward\n",
    "      return out\n",
    "  # def __mul__(self, other):\n",
    "  #   other = other if isinstance(other, Value) else Value(other)\n",
    "  #   out = Value(self.data * other.data, (self, other), '*')\n",
    "\n",
    "  #   def _backward():\n",
    "  #       self.grad += other.data * out.grad\n",
    "  #       other.grad += self.data * out.grad\n",
    "\n",
    "  #   out._backward = _backward\n",
    "  #   return out\n",
    "      \n",
    "  def exp(self):\n",
    "    out = Value(exp(self.data), (self, ), 'exp')\n",
    "\n",
    "    def _backward():\n",
    "      self.grad += out.grad * out.data\n",
    "    out._backward = _backward\n",
    "\n",
    "    return out\n",
    "\n",
    "  def log(self):\n",
    "    out = Value(log(self.data), (self, ), 'log')\n",
    "    def _backward():\n",
    "      self.grad += (1/self.data)* out.grad\n",
    "    out._backward = _backward\n",
    "    return out\n",
    "\n",
    "  def __truediv__(self, other):\n",
    "      return self * other ** -1\n",
    "\n",
    "  def __pow__(self, other):\n",
    "    assert isinstance(other, (int, float)), \"Only supports int and float\"\n",
    "    out = Value(self.data**other, (self, ), f'**(other)')\n",
    "\n",
    "    def _backward():\n",
    "        self.grad += other * (self.data ** (other-1)) * out.grad\n",
    "    out._backward = _backward\n",
    "    return out\n",
    "  def __neg__(self):\n",
    "    return self * -1\n",
    "        \n",
    "  # ------\n",
    "  # re-implement all the other functions needed for the exercises below\n",
    "  # your code here\n",
    "  # TODO\n",
    "  # ------\n",
    "\n",
    "  def backward(self): # exactly as in video\n",
    "    topo = []\n",
    "    visited = set()\n",
    "    def build_topo(v):\n",
    "      if v not in visited:\n",
    "        visited.add(v)\n",
    "        for child in v._prev:\n",
    "          build_topo(child)\n",
    "        topo.append(v)\n",
    "    build_topo(self)\n",
    "\n",
    "    self.grad = 1.0\n",
    "    for node in reversed(topo):\n",
    "      node._backward()"
   ]
  },
  {
   "cell_type": "code",
   "execution_count": 7,
   "metadata": {},
   "outputs": [],
   "source": [
    "# Add new operations for accommodate tanh calculation \n",
    "\n",
    "class Value:\n",
    "    \n",
    "    def __init__(self, data, _children=(), _op='', label=''):\n",
    "        self.data = data\n",
    "        self._prev = set(_children)\n",
    "        self._backward = lambda : None\n",
    "        self._op = _op\n",
    "        self.label = label\n",
    "        self.grad = 0\n",
    "    \n",
    "    def __repr__(self):\n",
    "        return \"Value(data={})\".format(self.data)\n",
    "    \n",
    "    def __add__(self, other):\n",
    "        other = other if isinstance(other, Value) else Value(other)\n",
    "        out = Value(self.data + other.data, (self, other), '+')\n",
    "\n",
    "        def _backward():\n",
    "            self.grad += 1.0 * out.grad\n",
    "            other.grad += 1.0 * out.grad\n",
    "\n",
    "        out._backward = _backward\n",
    "        return out\n",
    "    \n",
    "    def __mul__(self, other):\n",
    "        other = other if isinstance(other, Value) else Value(other)\n",
    "        out = Value(self.data * other.data, (self, other), '*')\n",
    "\n",
    "        def _backward():\n",
    "            self.grad += other.data * out.grad\n",
    "            other.grad += self.data * out.grad\n",
    "\n",
    "        out._backward = _backward\n",
    "        return out\n",
    "      \n",
    "\n",
    "    def __radd__(self, other):\n",
    "        return self + other\n",
    "\n",
    "    def __rmul__(self, other):\n",
    "        return self * other\n",
    "\n",
    "    def __truediv__(self, other):\n",
    "        return self * other ** -1\n",
    "\n",
    "    def __pow__(self, other):\n",
    "        assert isinstance(other, (int, float)), \"Only supports int and float\"\n",
    "        out = Value(self.data**other, (self, ), f'**(other)')\n",
    "\n",
    "        def _backward():\n",
    "            self.grad = other * (self.data ** (other-1)) * out.grad\n",
    "        out._backward = _backward\n",
    "        return out\n",
    "\n",
    "    def __neg__(self):\n",
    "        return self * -1\n",
    "\n",
    "    def __sub__(self, other):\n",
    "        return self + (-other)\n",
    "        \n",
    "\n",
    "    def tanh(self):\n",
    "        n = self.data\n",
    "        t = (math.exp(2*n) - 1)/(math.exp(2*n) + 1)\n",
    "        out = Value(t , (self, ), \"tanh\")\n",
    "\n",
    "        def _backward():\n",
    "            self.grad += (1-t**2) * out.grad\n",
    "            \n",
    "        out._backward = _backward\n",
    "        return out\n",
    "\n",
    "    def exp(self):\n",
    "        n = self.data\n",
    "        out = Value(math.exp(n), (self, ), \"exp\")\n",
    "\n",
    "        def _backward():\n",
    "            self.grad =out.data * out.grad\n",
    "        out._backward = _backward\n",
    "        return out\n",
    "        \n",
    "    def log(self):\n",
    "        n = self.data\n",
    "        out = Value(math.log(n), (self, ), \"log\")\n",
    "    \n",
    "        def _backward():\n",
    "            self.grad += (1/n) * out.grad\n",
    "        out._backward = _backward\n",
    "        return out\n",
    "\n",
    "    \n",
    "\n",
    "    def backward(self):\n",
    "        \n",
    "        topo = []\n",
    "        visited = set()\n",
    "        def build_topo(v):\n",
    "            if v not in visited:\n",
    "                visited.add(v)\n",
    "                for child in v._prev:\n",
    "                    build_topo(child)\n",
    "                topo.append(v)\n",
    "        build_topo(self)\n",
    "\n",
    "        self.grad = 1.0\n",
    "        for node in reversed(topo):\n",
    "            node._backward()"
   ]
  },
  {
   "cell_type": "code",
   "execution_count": 8,
   "metadata": {},
   "outputs": [
    {
     "name": "stdout",
     "output_type": "stream",
     "text": [
      "Value(data=2.302585092994046) 1.0\n",
      "Value(data=10.0) 0.1\n",
      "Value(data=20) 0.05\n",
      "Value(data=2) -0.5\n"
     ]
    }
   ],
   "source": [
    "a = Value(2)\n",
    "b = Value(20)\n",
    "c = b/a\n",
    "# exp(2.0)\n",
    "d = c.log()\n",
    "d.backward()\n",
    "print(d, d.grad)\n",
    "print(c, c.grad)\n",
    "print(b, b.grad)\n",
    "print(a, a.grad)"
   ]
  },
  {
   "cell_type": "code",
   "execution_count": 9,
   "metadata": {
    "id": "VgWvwVQNAvnI"
   },
   "outputs": [
    {
     "name": "stdout",
     "output_type": "stream",
     "text": [
      "2.1755153626167147\n",
      "OK for dim 0: expected 0.041772570515350445, yours returns 0.041772570515350445\n",
      "OK for dim 1: expected 0.8390245074625319, yours returns 0.8390245074625319\n",
      "OK for dim 2: expected 0.005653302662216329, yours returns 0.005653302662216329\n",
      "OK for dim 3: expected -0.8864503806400986, yours returns -0.8864503806400986\n"
     ]
    }
   ],
   "source": [
    "# without referencing our code/video __too__ much, make this cell work\n",
    "# you'll have to implement (in some cases re-implemented) a number of functions\n",
    "# of the Value object, similar to what we've seen in the video.\n",
    "# instead of the squared error loss this implements the negative log likelihood\n",
    "# loss, which is very often used in classification.\n",
    "\n",
    "# this is the softmax function\n",
    "# https://en.wikipedia.org/wiki/Softmax_function\n",
    "def softmax(logits):\n",
    "  counts = [logit.exp() for logit in logits]\n",
    "  denominator = sum(counts)\n",
    "  out = [c / denominator for c in counts]\n",
    "  return out\n",
    "\n",
    "# this is the negative log likelihood loss function, pervasive in classification\n",
    "logits = [Value(0.0), Value(3.0), Value(-2.0), Value(1.0)]\n",
    "probs = softmax(logits)\n",
    "loss = -probs[3].log() # dim 3 acts as the label for this input example\n",
    "loss.backward()\n",
    "print(loss.data)\n",
    "\n",
    "ans = [0.041772570515350445, 0.8390245074625319, 0.005653302662216329, -0.8864503806400986]\n",
    "for dim in range(4):\n",
    "  ok = 'OK' if abs(logits[dim].grad - ans[dim]) < 1e-5 else 'WRONG!'\n",
    "  print(f\"{ok} for dim {dim}: expected {ans[dim]}, yours returns {logits[dim].grad}\")\n"
   ]
  },
  {
   "cell_type": "code",
   "execution_count": 10,
   "metadata": {
    "id": "q7ca1SVAGG1S"
   },
   "outputs": [],
   "source": [
    "# verify the gradient using the torch library\n",
    "# torch should give you the exact same gradient\n",
    "import torch"
   ]
  },
  {
   "cell_type": "code",
   "execution_count": 11,
   "metadata": {
    "id": "q7ca1SVAGG1S"
   },
   "outputs": [
    {
     "name": "stdout",
     "output_type": "stream",
     "text": [
      "tensor([2.1755])\n",
      "OK for dim 0: expected 0.041772570515350445, yours returns tensor([0.0418])\n",
      "OK for dim 1: expected 0.8390245074625319, yours returns tensor([0.8390])\n",
      "OK for dim 2: expected 0.005653302662216329, yours returns tensor([0.0057])\n",
      "OK for dim 3: expected -0.8864503806400986, yours returns tensor([-0.8865])\n"
     ]
    }
   ],
   "source": [
    "a = torch.tensor([0.0]); a.requires_grad = True\n",
    "b = torch.tensor([3.0]); b.requires_grad = True\n",
    "c = torch.tensor([-2.0]); c.requires_grad = True\n",
    "d = torch.tensor([1.0]); d.requires_grad = True\n",
    "logits = [a, b, c, d]\n",
    "probs = softmax(logits)\n",
    "loss = -probs[3].log()\n",
    "loss.backward()\n",
    "print(loss.data)\n",
    "ans = [0.041772570515350445, 0.8390245074625319, 0.005653302662216329, -0.8864503806400986]\n",
    "for dim in range(4):\n",
    "  ok = 'OK' if abs(logits[dim].grad - ans[dim]) < 1e-5 else 'WRONG!'\n",
    "  print(f\"{ok} for dim {dim}: expected {ans[dim]}, yours returns {logits[dim].grad}\")"
   ]
  },
  {
   "cell_type": "code",
   "execution_count": 12,
   "metadata": {},
   "outputs": [
    {
     "name": "stdout",
     "output_type": "stream",
     "text": [
      "tensor([2.3026], grad_fn=<LogBackward0>) None\n",
      "tensor([10.], grad_fn=<DivBackward0>) None\n",
      "tensor([20.], requires_grad=True) tensor([0.0500])\n",
      "tensor([2.], requires_grad=True) tensor([-0.5000])\n"
     ]
    },
    {
     "name": "stderr",
     "output_type": "stream",
     "text": [
      "/tmp/ipykernel_10755/76021403.py:7: UserWarning: The .grad attribute of a Tensor that is not a leaf Tensor is being accessed. Its .grad attribute won't be populated during autograd.backward(). If you indeed want the .grad field to be populated for a non-leaf Tensor, use .retain_grad() on the non-leaf Tensor. If you access the non-leaf Tensor by mistake, make sure you access the leaf Tensor instead. See github.com/pytorch/pytorch/pull/30531 for more informations. (Triggered internally at aten/src/ATen/core/TensorBody.h:489.)\n",
      "  print(d, d.grad)\n",
      "/tmp/ipykernel_10755/76021403.py:8: UserWarning: The .grad attribute of a Tensor that is not a leaf Tensor is being accessed. Its .grad attribute won't be populated during autograd.backward(). If you indeed want the .grad field to be populated for a non-leaf Tensor, use .retain_grad() on the non-leaf Tensor. If you access the non-leaf Tensor by mistake, make sure you access the leaf Tensor instead. See github.com/pytorch/pytorch/pull/30531 for more informations. (Triggered internally at aten/src/ATen/core/TensorBody.h:489.)\n",
      "  print(c, c.grad)\n"
     ]
    }
   ],
   "source": [
    "a = torch.tensor([2.0]); a.requires_grad = True\n",
    "b = torch.tensor([20.0]); b.requires_grad = True\n",
    "c = b/a;\n",
    "# exp(2.0)\n",
    "d = c.log();\n",
    "d.backward()\n",
    "print(d, d.grad)\n",
    "print(c, c.grad)\n",
    "print(b, b.grad)\n",
    "print(a, a.grad)"
   ]
  },
  {
   "cell_type": "code",
   "execution_count": 13,
   "metadata": {},
   "outputs": [
    {
     "name": "stdout",
     "output_type": "stream",
     "text": [
      "Value(data=2.302585092994046) 1.0\n",
      "Value(data=10.0) 0.1\n",
      "Value(data=20) 0.05\n",
      "Value(data=2) -0.5\n"
     ]
    }
   ],
   "source": [
    "a = Value(2)\n",
    "b = Value(20)\n",
    "c = b/a\n",
    "# exp(2.0)\n",
    "d = c.log()\n",
    "d.backward()\n",
    "print(d, d.grad)\n",
    "print(c, c.grad)\n",
    "print(b, b.grad)\n",
    "print(a, a.grad)"
   ]
  },
  {
   "cell_type": "code",
   "execution_count": null,
   "metadata": {},
   "outputs": [],
   "source": []
  }
 ],
 "metadata": {
  "colab": {
   "provenance": []
  },
  "kernelspec": {
   "display_name": "Python 3 (ipykernel)",
   "language": "python",
   "name": "python3"
  },
  "language_info": {
   "codemirror_mode": {
    "name": "ipython",
    "version": 3
   },
   "file_extension": ".py",
   "mimetype": "text/x-python",
   "name": "python",
   "nbconvert_exporter": "python",
   "pygments_lexer": "ipython3",
   "version": "3.10.14"
  }
 },
 "nbformat": 4,
 "nbformat_minor": 4
}
